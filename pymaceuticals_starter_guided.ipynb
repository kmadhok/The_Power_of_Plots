{
 "cells": [
  {
   "cell_type": "markdown",
   "metadata": {},
   "source": [
    "# Pymaceuticals Inc.\n",
    "---\n",
    "\n",
    "### Analysis\n",
    "##### Analysis can go here or at the bottom of the file.  I usually put it at the end.\n",
    "1.  \n",
    "2.\n",
    "3. "
   ]
  },
  {
   "cell_type": "code",
   "execution_count": null,
   "metadata": {},
   "outputs": [],
   "source": [
    "# Dependencies and Setup\n",
    "import matplotlib.pyplot as plt\n",
    "import pandas as pd\n",
    "import scipy.stats as st\n",
    "\n",
    "# Study data files\n",
    "mouse_metadata_path = \"data/Mouse_metadata.csv\"\n",
    "study_results_path = \"data/Study_results.csv\"\n",
    "\n",
    "# Read the mouse data and the study results\n",
    "mouse_metadata = pd.read_csv(mouse_metadata_path)\n",
    "study_results = pd.read_csv(study_results_path)\n",
    "\n",
    "# Combine the data into a single dataset\n",
    "master_df = pd.merge(mouse_metadata, study_results, how='outer', on=\"Mouse ID\")\n",
    "# Display the data table for preview\n",
    "master_df.head()"
   ]
  },
  {
   "cell_type": "code",
   "execution_count": null,
   "metadata": {},
   "outputs": [],
   "source": [
    "# Checking the number of mice.\n",
    "master_df['Mouse ID'].nunique()"
   ]
  },
  {
   "cell_type": "code",
   "execution_count": null,
   "metadata": {},
   "outputs": [],
   "source": [
    "# Getting the duplicate mice by ID number that shows up for Mouse ID and Timepoint. \n",
    "clean_df = master_df.drop_duplicates(subset=['Mouse ID'])\n",
    "clean_df.head()\n",
    "duplicate_mice_IDs = clean_df.loc[master_df.duplicated(subset=['Mouse ID','Timepoint']),'Mouse ID'].unique()\n",
    "duplicate_mice_IDs"
   ]
  },
  {
   "cell_type": "code",
   "execution_count": null,
   "metadata": {},
   "outputs": [],
   "source": [
    "# Optional: Get all the data for the duplicate mouse ID. \n",
    "duplicate_mice_df = master_df.loc[master_df['Mouse ID']=='g989', :]\n",
    "duplicate_mice_df"
   ]
  },
  {
   "cell_type": "code",
   "execution_count": null,
   "metadata": {},
   "outputs": [],
   "source": [
    "# Create a clean DataFrame by dropping the duplicate mouse by its ID (aka remove all records for that mouse)\n",
    "# There are multiple ways of doing this and it is good to search online to see the suggestions.\n"
   ]
  },
  {
   "cell_type": "code",
   "execution_count": null,
   "metadata": {},
   "outputs": [],
   "source": [
    "# Checking the number of mice in the clean DataFrame.\n",
    "clean_df['Mouse ID'].nunique()\n",
    "clean_mice_df = clean_df.loc[master_df['Mouse ID']=='g989', :]\n",
    "clean_mice_df"
   ]
  },
  {
   "cell_type": "markdown",
   "metadata": {},
   "source": [
    "## Summary Statistics"
   ]
  },
  {
   "cell_type": "code",
   "execution_count": null,
   "metadata": {},
   "outputs": [],
   "source": [
    "# Method 1:  Generate a summary statistics table of mean, median, variance, standard deviation, and SEM of the tumor volume for each regimen\n",
    "# by using groupby and summary statistical methods to calculate the following properties of each drug regimen: \n",
    "# mean, median, variance, standard deviation, and SEM of the tumor volume. \n",
    "# Assemble the resulting series into a single summary dataframe.\n",
    "\n",
    "mean = clean_df['Tumor Volume (mm3)'].groupby(clean_df['Drug Regimen']).mean()\n",
    "median = clean_df['Tumor Volume (mm3)'].groupby(clean_df['Drug Regimen']).median()\n",
    "variance = clean_df['Tumor Volume (mm3)'].groupby(clean_df['Drug Regimen']).var()\n",
    "std = clean_df['Tumor Volume (mm3)'].groupby(clean_df['Drug Regimen']).std()\n",
    "sem = clean_df['Tumor Volume (mm3)'].groupby(clean_df['Drug Regimen']).sem()\n",
    "\n",
    "\n",
    "\n",
    "summary_statistics = pd.DataFrame({'Mean Tumor Volume':mean,\n",
    "                                   'Median Tumor Volume':median,\n",
    "                                   'Tumor Volume Variance':variance,\n",
    "                                   ' Standard Deviation of Tumor Volume':std,\n",
    "                                   'SEM of Tumor Volume':sem,\n",
    "                                  })\n",
    "\n",
    "summary_statistics\n",
    "\n",
    "\n"
   ]
  },
  {
   "cell_type": "code",
   "execution_count": null,
   "metadata": {},
   "outputs": [],
   "source": [
    "# Method 2:  Generate a summary statistics table of mean, median, variance, standard deviation, and SEM of the tumor volume for each regimen\n",
    "# by using the aggregation method, produce the same summary statistics in a single line\n",
    "\n"
   ]
  },
  {
   "cell_type": "markdown",
   "metadata": {},
   "source": [
    "## Bar and Pie Charts"
   ]
  },
  {
   "cell_type": "code",
   "execution_count": null,
   "metadata": {},
   "outputs": [],
   "source": [
    "# Generate a bar plot showing the total number of timepoints for all mice tested for each drug regimen using Pandas.\n",
    "\n",
    "\n",
    "    mice_drug_regimen = master_df.groupby([\"Drug Regimen\"]).count()[\"Mouse ID\"] \n",
    "\n",
    "\n",
    "plot_pandas = mice_drug_regimen.plot.bar(figsize=(15,10), color='b',fontsize = 14)\n",
    "mice_drug_regimen\n",
    "plt.xlabel(\"Drug Regimen\",fontsize = 14)\n",
    "plt.ylabel(\"Number of Mice\",fontsize = 14)\n",
    "plt.title(\"Number of Mice per Treatment\",fontsize = 20)\n",
    "\n",
    "# plt.savefig(\"../Images/mice_drug_regimen.png\", bbox_inches = \"tight\")\n",
    "plt.tight_layout()\n",
    "plt.show()\n",
    "\n",
    "mice_drug_regimen\n",
    "\n",
    "\n",
    "\n"
   ]
  },
  {
   "cell_type": "code",
   "execution_count": null,
   "metadata": {},
   "outputs": [],
   "source": [
    "clean_df.tail()"
   ]
  },
  {
   "cell_type": "code",
   "execution_count": null,
   "metadata": {},
   "outputs": [],
   "source": [
    "# Generate a bar plot showing the total number of timepoints for all mice tested for each drug regimen using pyplot.\n",
    "mice_timepoint = clean_df[\"Timepoint\"].value_counts()\n",
    "mice_timepoint\n",
    "\n",
    "x_axis = mice_timepoint.index.values\n",
    "y_axis = mice_timepoint.values\n",
    "\n",
    "# Create a Pyplot bar plot based off of the group series from before and label the title\n",
    "plt.bar(x_axis, y_axis, color='b', alpha=0.8, align='center')\n",
    "\n",
    "# Set the xlabel and ylabel, title using class methods\n",
    "plt.title(\"Total Number of Timepoints for Mice Tested\")\n",
    "plt.xlabel(\"Timepoints\")\n",
    "plt.ylabel(\"Number of Mice\")\n",
    "plt.xticks(rotation=\"vertical\")\n",
    "\n",
    "plt.show()\n",
    "\n",
    "\n",
    "\n"
   ]
  },
  {
   "cell_type": "code",
   "execution_count": null,
   "metadata": {},
   "outputs": [],
   "source": [
    "# Method1:  Generate a pie plot showing the distribution of female versus male mice using Pandas\n",
    "# To clarify:  This answers the question:  of all the measurements taken, what percent where on male and female mice.\n",
    "# This is different than:  of all the mice, what percent were male and female?\n",
    "\n",
    "gender_df = clean_df[\"Sex\"].value_counts()\n",
    "plt.title(\"Female vs. Male Mice\")\n",
    "gender_df.plot.pie(autopct= \"%1.1f%%\")\n",
    "plt.show()\n",
    "\n",
    "\n",
    "\n"
   ]
  },
  {
   "cell_type": "code",
   "execution_count": null,
   "metadata": {},
   "outputs": [],
   "source": [
    "#Getting values for both Male and Female\n",
    "gender_sum = gender_df['Male'] + gender_df['Female']\n",
    "gender_sum\n",
    "gender_male = gender_df['Male'] / gender_sum\n",
    "gender_male\n",
    "gender_female = gender_df['Female'] / gender_sum\n",
    "gender_female"
   ]
  },
  {
   "cell_type": "code",
   "execution_count": null,
   "metadata": {},
   "outputs": [],
   "source": [
    "# Method 2:  Generate a pie plot showing the distribution of female versus male mice using matplotlib (aka pyplot, plt)\n",
    "# Same clarification as above.\n",
    "labels = ['Female', 'Male']\n",
    "sizes = [gender_female, gender_male]\n",
    "plot = gender_df.plot.pie(y='Total Count', autopct=\"%1.1f%%\")\n",
    "plt.title('Male vs Female Mouse')\n",
    "plt.ylabel('Sex')\n",
    "plt.show()"
   ]
  },
  {
   "cell_type": "markdown",
   "metadata": {},
   "source": [
    "## Quartiles, Outliers and Boxplots"
   ]
  },
  {
   "cell_type": "code",
   "execution_count": null,
   "metadata": {},
   "outputs": [],
   "source": [
    "# Calculate the final tumor volume of each mouse across four of the treatment regimens:  \n",
    "# Capomulin, Ramicane, Infubinol, and Ceftamin\n",
    "# Start by getting the last (greatest) timepoint for each mouse\n",
    "Ceftamin = clean_df.loc[clean_df[\"Drug Regimen\"] == \"Ceftamin\", :]\n",
    "Ramicane = clean_df.loc[clean_df[\"Drug Regimen\"] == \"Ramicane\", :]\n",
    "Capomulin = clean_df.loc[clean_df[\"Drug Regimen\"] == \"Capomulin\",:]\n",
    "Infubinol = clean_df.loc[clean_df[\"Drug Regimen\"] == \"Infubinol\", :]\n",
    "\n",
    "# Merge this group df with the original dataframe to get the tumor volume at the last timepoint\n",
    "Capomulin_last = Capomulin.groupby('Mouse ID').max()['Timepoint']\n",
    "Capomulin_vol = pd.DataFrame(Capomulin_last)\n",
    "Capomulin_merge = pd.merge(Capomulin_vol, clean_df, on=(\"Mouse ID\",\"Timepoint\"),how=\"left\")\n",
    "Capomulin_merge.head()"
   ]
  },
  {
   "cell_type": "code",
   "execution_count": null,
   "metadata": {},
   "outputs": [],
   "source": [
    "Infubinol.head()"
   ]
  },
  {
   "cell_type": "code",
   "execution_count": null,
   "metadata": {},
   "outputs": [],
   "source": []
  },
  {
   "cell_type": "code",
   "execution_count": null,
   "metadata": {},
   "outputs": [],
   "source": []
  },
  {
   "cell_type": "code",
   "execution_count": null,
   "metadata": {},
   "outputs": [],
   "source": []
  },
  {
   "cell_type": "code",
   "execution_count": null,
   "metadata": {},
   "outputs": [],
   "source": []
  },
  {
   "cell_type": "code",
   "execution_count": null,
   "metadata": {},
   "outputs": [],
   "source": []
  },
  {
   "cell_type": "code",
   "execution_count": null,
   "metadata": {},
   "outputs": [],
   "source": []
  },
  {
   "cell_type": "code",
   "execution_count": null,
   "metadata": {},
   "outputs": [],
   "source": []
  },
  {
   "cell_type": "code",
   "execution_count": null,
   "metadata": {},
   "outputs": [],
   "source": [
    "# Put treatments into a list for for loop (and later for plot labels)\n",
    "# More information should be provided about this part since it is confusing and difficult.\n",
    "# Part of this is similar to Day3 but **the suggestions make more sense** if you know you are doing\n",
    "# this so so you have 4 lists contained inside a list bc this is used to generate the boxplot in the next cell.\n",
    "\n",
    "treatments = ['Ceftamin','Ramicane','Capomulin','Infubinol']\n",
    "# Create empty list to fill with tumor vol data (for plotting)\n",
    "\n",
    "\n",
    "# Calculate the IQR and quantitatively determine if there are any potential outliers. \n",
    "\n",
    "    \n",
    "    # Locate the rows which contain mice on each drug and get the tumor volumes\n",
    "    \n",
    "    \n",
    "    # add subset \n",
    "    \n",
    "    \n",
    "    # Determine outliers using upper and lower bounds\n",
    "\n",
    "    \n",
    "    \n",
    "    \n",
    "    \n",
    "    \n",
    "# Print results of each drugs outliers - results printed don't need to look pretty.  See below.    \n",
    "# Note:  in the output below:  '31   36.32346' is series index 31 and value 36.32346.  There is only one outlier.\n",
    "\n"
   ]
  },
  {
   "cell_type": "code",
   "execution_count": null,
   "metadata": {},
   "outputs": [],
   "source": [
    "# Generate a box plot of the final tumor volume of each mouse across four regimens of interest\n",
    "\n",
    "\n",
    "\n"
   ]
  },
  {
   "cell_type": "markdown",
   "metadata": {},
   "source": [
    "## Line and Scatter Plots"
   ]
  },
  {
   "cell_type": "code",
   "execution_count": null,
   "metadata": {},
   "outputs": [],
   "source": [
    "# Generate a line plot of tumor volume vs. time point for a mouse treated with Capomulin\n",
    "\n",
    "\n",
    "\n",
    "\n",
    "\n",
    "\n",
    "\n"
   ]
  },
  {
   "cell_type": "code",
   "execution_count": null,
   "metadata": {},
   "outputs": [],
   "source": [
    "# Generate a scatter plot of average tumor volume vs. average mouse weight of each mouse treated with the Capomulin regimen\n",
    "# The chart below shows a dot for each mouse treated with Capomulin using average weight and average tumor Volume.\n",
    "#  I would make the X-label say something like \"Average Weight (g)\"\n",
    "\n",
    "\n",
    "\n",
    "\n",
    "\n"
   ]
  },
  {
   "cell_type": "markdown",
   "metadata": {},
   "source": [
    "## Correlation and Regression"
   ]
  },
  {
   "cell_type": "code",
   "execution_count": null,
   "metadata": {},
   "outputs": [],
   "source": [
    "# Calculate the correlation coefficient and linear regression model \n",
    "# for mouse weight and average tumor volume for the Capomulin regimen\n",
    "\n",
    "\n",
    "\n",
    "\n",
    "\n",
    "\n",
    "\n",
    "\n",
    "\n",
    "\n"
   ]
  },
  {
   "cell_type": "code",
   "execution_count": null,
   "metadata": {},
   "outputs": [],
   "source": []
  }
 ],
 "metadata": {
  "anaconda-cloud": {},
  "kernelspec": {
   "display_name": "Python 3 (ipykernel)",
   "language": "python",
   "name": "python3"
  },
  "language_info": {
   "codemirror_mode": {
    "name": "ipython",
    "version": 3
   },
   "file_extension": ".py",
   "mimetype": "text/x-python",
   "name": "python",
   "nbconvert_exporter": "python",
   "pygments_lexer": "ipython3",
   "version": "3.8.13"
  }
 },
 "nbformat": 4,
 "nbformat_minor": 4
}
